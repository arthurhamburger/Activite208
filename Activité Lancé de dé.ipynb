{
 "cells": [
  {
   "cell_type": "markdown",
   "metadata": {},
   "source": [
    "NOM :                         Prénom : "
   ]
  },
  {
   "cell_type": "markdown",
   "metadata": {},
   "source": [
    "# Jeu du lancé de dé et intervalle de fluctuation\n",
    "On se propose dans cette activité de simuler le jeu suivant :\n",
    "\n",
    "__On lance un dé équilibré, si le score est 1 ou 6, on gagne un point, sinon on ne gagne rien__\n",
    "\n",
    "D'après le cours de maths, en effectuant un très grand nombre de fois ce jeu, la **fréquence de victoire observée** doit se rapprocher de la **probabilité** de gagner. On a défini en ce sens l'intervalle du fluctuation."
   ]
  },
  {
   "cell_type": "markdown",
   "metadata": {},
   "source": [
    "## Calcul de la probabilité de victoire\n",
    "L'expérience aléatoire est la lancé d'un dé.  \n",
    "**1. Quelles sont toutes les issues possibles (univers) ?**"
   ]
  },
  {
   "cell_type": "markdown",
   "metadata": {},
   "source": [
    "Réponse :"
   ]
  },
  {
   "cell_type": "markdown",
   "metadata": {},
   "source": [
    "**2. Quelles sont les issues possibles de l'événement V : \"On gagne un point\" ?**"
   ]
  },
  {
   "cell_type": "markdown",
   "metadata": {},
   "source": [
    "Réponse :"
   ]
  },
  {
   "cell_type": "markdown",
   "metadata": {},
   "source": [
    "**3. Quelle est la probabilité $p(V)$ de gagner un point lors d'un lancé de dé ?**"
   ]
  },
  {
   "cell_type": "markdown",
   "metadata": {},
   "source": [
    "Réponse :"
   ]
  },
  {
   "cell_type": "markdown",
   "metadata": {},
   "source": [
    "# Simulation du jeu\n",
    "## Un lancé de dé\n",
    "Pour simuler le score obtenu après un lancé de dé, on doit générer aléatoirement un nombre entier grâce à la fonction *randint*.  \n",
    "\n",
    "**4. Sachant que *randint(a,b)* renvoit un entier compris entre a et b, quelles doivent être les valeurs de a et b pour simuler un lancé de dé ?**"
   ]
  },
  {
   "cell_type": "markdown",
   "metadata": {},
   "source": [
    "Réponse :"
   ]
  },
  {
   "cell_type": "markdown",
   "metadata": {},
   "source": [
    "La fonction suivante permet de renvoyer la valeur obtenue après avoir simulé un lancé de dé.  \n",
    "\n",
    "**5. Remplacer les ? par les bonnes valeurs, puis exécuter la cellule** (ctrl + entrée ou touche Exécuter) :"
   ]
  },
  {
   "cell_type": "code",
   "execution_count": 125,
   "metadata": {},
   "outputs": [],
   "source": [
    "from random import *\n",
    "def lance_un_de():\n",
    "    valeur=randint(?,?) \n",
    "    return valeur"
   ]
  },
  {
   "cell_type": "markdown",
   "metadata": {},
   "source": [
    "Testez votre fonction en exécutant la cellule :"
   ]
  },
  {
   "cell_type": "code",
   "execution_count": 129,
   "metadata": {},
   "outputs": [
    {
     "data": {
      "text/plain": [
       "3"
      ]
     },
     "execution_count": 129,
     "metadata": {},
     "output_type": "execute_result"
    }
   ],
   "source": [
    "lance_un_de()"
   ]
  },
  {
   "cell_type": "markdown",
   "metadata": {},
   "source": [
    "### Une manche\n",
    "La condition pour remporter un point est d'obtenir un 1 **OU** un 6.  \n",
    "\n",
    "**6. Remplacer les ? dans le code suivant pour que la fonction *manche* renvoie le bon nombre de points en fonction du résultat.**"
   ]
  },
  {
   "cell_type": "code",
   "execution_count": 130,
   "metadata": {},
   "outputs": [],
   "source": [
    "def manche():\n",
    "    \n",
    "    resultat = lance_un_de()\n",
    "    if resultat == ? or resultat == ?:\n",
    "        points = 1\n",
    "    else :\n",
    "        points = 0\n",
    "        \n",
    "    return points\n",
    "        "
   ]
  },
  {
   "cell_type": "markdown",
   "metadata": {},
   "source": [
    "Tester votre fonction manche :"
   ]
  },
  {
   "cell_type": "code",
   "execution_count": 137,
   "metadata": {
    "scrolled": true
   },
   "outputs": [
    {
     "data": {
      "text/plain": [
       "0"
      ]
     },
     "execution_count": 137,
     "metadata": {},
     "output_type": "execute_result"
    }
   ],
   "source": [
    "manche()"
   ]
  },
  {
   "cell_type": "markdown",
   "metadata": {},
   "source": [
    "### Plusieurs parties\n",
    "Pour observer les fréquences de victoire, il faut effectuer plusieurs parties successives. On obtiendra ainsi un **échantillon** de 100 lancés de dé.  \n",
    "\n",
    "**7. Quel est la valeur du score total AVANT d'avoir commencé à jouer ?** On appelle cela l'initialisation du score."
   ]
  },
  {
   "cell_type": "markdown",
   "metadata": {},
   "source": [
    "Réponse :"
   ]
  },
  {
   "cell_type": "markdown",
   "metadata": {},
   "source": [
    "On souhaite effectuer un nombre $n$ de parties.  \n",
    "\n",
    "**8. Combien de fois allons nous répéter la fonction _manche_ ?**"
   ]
  },
  {
   "cell_type": "markdown",
   "metadata": {},
   "source": [
    "Réponse :"
   ]
  },
  {
   "cell_type": "markdown",
   "metadata": {},
   "source": [
    "Pour la répétition, on utilisera une boucle *for* (voir les rappels de Python).  \n",
    "\n",
    "**9. Remplacer les ? par les bonnes valeurs dans le code suivant :**"
   ]
  },
  {
   "cell_type": "code",
   "execution_count": 117,
   "metadata": {},
   "outputs": [],
   "source": [
    "def parties(n):\n",
    "    score = ?                     # valeur d'initialisation du score (voir question 7)\n",
    "    for i in range(0,?):          # le compteur i va prendre des valeurs comprises entre 0 et ?\n",
    "        score = score + manche()  # cette ligne sera effectuée ? fois\n",
    "    return score"
   ]
  },
  {
   "cell_type": "markdown",
   "metadata": {},
   "source": [
    "Tester votre fonction pour 100 répétitions de manche $(n=100)$"
   ]
  },
  {
   "cell_type": "code",
   "execution_count": 118,
   "metadata": {
    "scrolled": false
   },
   "outputs": [
    {
     "data": {
      "text/plain": [
       "20"
      ]
     },
     "execution_count": 118,
     "metadata": {},
     "output_type": "execute_result"
    }
   ],
   "source": [
    "parties(100)"
   ]
  },
  {
   "cell_type": "markdown",
   "metadata": {},
   "source": [
    "### Fréquence de victoire\n",
    "Un point correspond à une victoire, donc quand on lance la fonction *parties* avec l'argument 100, on obtient le nombre de victoire sur 100 parties.\n",
    "\n",
    "**10. Si, après 100 parties, le nombre de victoire est 26, quelle est la fréquence de victoire ?**"
   ]
  },
  {
   "cell_type": "markdown",
   "metadata": {},
   "source": [
    "Réponse :"
   ]
  },
  {
   "cell_type": "markdown",
   "metadata": {},
   "source": [
    "On définit la fonction *frequence* qui permet de calculer puis retourner la fréquence de victoire après $n$ parties.  \n",
    "Dans le code suivant, on stocke le nombre de parties gagnées, donné par la fonction *parties(n)*, dans la variable \"gagne\".  \n",
    "\n",
    "**11. Remplacer les ? par les bonnes valeurs dans le code suivant :**"
   ]
  },
  {
   "cell_type": "code",
   "execution_count": 138,
   "metadata": {},
   "outputs": [],
   "source": [
    "def frequence(n):\n",
    "    gagne=parties(n)\n",
    "    freq = ?/?        # on calcul la fréquence par la division du nombre de victoire par le nombre total de parties \n",
    "    return freq"
   ]
  },
  {
   "cell_type": "markdown",
   "metadata": {},
   "source": [
    "Tester votre fonction fréquence :"
   ]
  },
  {
   "cell_type": "code",
   "execution_count": 149,
   "metadata": {},
   "outputs": [
    {
     "data": {
      "text/plain": [
       "0.41"
      ]
     },
     "execution_count": 149,
     "metadata": {},
     "output_type": "execute_result"
    }
   ],
   "source": [
    "frequence(100)"
   ]
  },
  {
   "cell_type": "markdown",
   "metadata": {},
   "source": [
    "# Observation des résultats\n",
    "Vous avez créé plusieurs fonctions, pour finalement obtenir la fréquence de victoire lorqu'on effectue un certain nombre $n$ de parties.   \n",
    "On obtient ainsi la fréquence de victoire pour un échantillon de taille $n$ parties.  \n",
    "\n",
    "Le code suivant permet de répéter plusieurs fois la création d'un échantillon, et de placer sur un graphique à chaque fois un point qui a pour ordonnée la **fréquence obtenu dans l'échantillon**.  \n",
    "\n",
    "**12. Executer le code suivant SANS LE MODIFIER. Si tout fonctionne, vous obtiendrez un graphique.**"
   ]
  },
  {
   "cell_type": "code",
   "execution_count": 140,
   "metadata": {},
   "outputs": [
    {
     "data": {
      "image/png": "[encoded data removed]",
      "text/plain": [
       "<Figure size 432x288 with 1 Axes>"
      ]
     },
     "metadata": {
      "needs_background": "light"
     },
     "output_type": "display_data"
    }
   ],
   "source": [
    "from matplotlib import pyplot as plt\n",
    "from math import sqrt\n",
    "n, p = 100, 1/3\n",
    "X = 100\n",
    "mini, maxi = p-1/sqrt(n), p+1/sqrt(n)\n",
    "for repet in range(X) : \n",
    "    f = frequence(n)\n",
    "    if mini < f < maxi : \n",
    "        plt.plot(repet, f, \"go\")\n",
    "    else : \n",
    "        plt.plot(repet, f, \"ro\")\n",
    "plt.plot([0,repet],[p, p], \"m--\")\n",
    "plt.plot([0,repet],[mini, mini], \"k--\")\n",
    "plt.plot([0,repet],[maxi, maxi], \"k--\")\n",
    "plt.show()\n",
    "\n"
   ]
  },
  {
   "cell_type": "markdown",
   "metadata": {},
   "source": [
    "Sur ce graphique, on a tracé la probabilité $p= \\frac 1 3$ calculée dans la première partie : **le trait mauve**.  \n",
    "On a placé toutes les fréquences obtenues : **points verts et points rouges**.\n",
    "\n",
    "**13. On a définit l'intervalle de fluctuation de la fréquence dans le cours par : $f\\in[p-\\frac 1 {\\sqrt n};p+\\frac 1 {\\sqrt n}]$.   \n",
    "Pour $n=100$, quelle sont les valeurs des bornes de l'intervalle ?**"
   ]
  },
  {
   "cell_type": "markdown",
   "metadata": {},
   "source": [
    "Réponse :"
   ]
  },
  {
   "cell_type": "markdown",
   "metadata": {},
   "source": [
    "**14. Quelles est la différence entre les point rouges et les points verts ?**"
   ]
  },
  {
   "cell_type": "markdown",
   "metadata": {},
   "source": [
    "Réponse :"
   ]
  }
 ],
 "metadata": {
  "kernelspec": {
   "display_name": "Python 3",
   "language": "python",
   "name": "python3"
  },
  "language_info": {
   "codemirror_mode": {
    "name": "ipython",
    "version": 3
   },
   "file_extension": ".py",
   "mimetype": "text/x-python",
   "name": "python",
   "nbconvert_exporter": "python",
   "pygments_lexer": "ipython3",
   "version": "3.7.1"
  }
 },
 "nbformat": 4,
 "nbformat_minor": 2
}
